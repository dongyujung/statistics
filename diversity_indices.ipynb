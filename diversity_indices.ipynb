{
 "cells": [
  {
   "cell_type": "markdown",
   "metadata": {},
   "source": [
    "## Diversity Indices  \n",
    "\n",
    "Mathematical measure of **species diversity** in a community.  \n",
    "\n",
    "Two aspects:  \n",
    "\n",
    "* **Species richness** (the number of species present)  \n",
    "* **Equitability** (evenness, the number of individuals per species)  \n",
    "\n",
    "Both aspects are considered in the following two commonly-used indices:  \n",
    "\n",
    "* **Shannon's Diversity Index (H)**  \n",
    "* **Simpson's Diversity Index (D)**  \n",
    "\n",
    "Shannon's diversity index is more dependant on **species richness**, while Simpson's diversity index has more emphasis on **dominant species and evenness**.  \n",
    "\n",
    "#### Shannon's Diversity Index (H)  \n",
    "$$H=-\\sum_{n=1}^{S}{p_i \\ln{p_i}}$$  \n",
    "\n",
    "#### Simpson's Diversity Index (D)  \n",
    "$$D=\\frac{1}{\\sum\\limits_{n=1}^{S}{p_i}^2}$$    \n",
    "$S$: total number of species in the community (richness)  \n",
    "$p_i$: proportion of S made up of the i-th species  \n",
    "\n",
    "$H_{max}=\\ln{S}$ and $D_{max}=S$ refering to the case of all even species.  \n",
    "\n",
    "\n",
    "Each index has its own corresponding equitability (evenness) measure,  \n",
    "\n",
    "#### Shannon's Equitability ($E_H$)  \n",
    "\n",
    "$$E_H=\\frac{H}{H_{max}}=\\frac{H}{\\ln{S}}$$\n",
    "\n",
    "#### Simpson's Equitability ($E_D$)  \n",
    "\n",
    "$$E_H=\\frac{D}{D_{max}}=\\frac{1}{\\sum\\limits_{n=1}^{S}{p_i}^2}\\times \\frac{1}{S}$$  \n",
    "\n",
    "\n",
    "\n",
    "#### References  \n",
    "\n",
    "http://www.tiem.utk.edu/~gross/bioed/bealsmodules/simpsonDI.html  \n",
    "\n",
    "http://www.tiem.utk.edu/~gross/bioed/bealsmodules/shannonDI.html  \n",
    "\n",
    "http://entnemdept.ifas.ufl.edu/hodges/ProtectUs/lp_webfolder/9_12_grade/Student_Handout_1A.pdf  \n",
    "\n"
   ]
  }
 ],
 "metadata": {
  "kernelspec": {
   "display_name": "Python 2",
   "language": "python",
   "name": "python2"
  },
  "language_info": {
   "codemirror_mode": {
    "name": "ipython",
    "version": 2
   },
   "file_extension": ".py",
   "mimetype": "text/x-python",
   "name": "python",
   "nbconvert_exporter": "python",
   "pygments_lexer": "ipython2",
   "version": "2.7.13"
  }
 },
 "nbformat": 4,
 "nbformat_minor": 2
}
